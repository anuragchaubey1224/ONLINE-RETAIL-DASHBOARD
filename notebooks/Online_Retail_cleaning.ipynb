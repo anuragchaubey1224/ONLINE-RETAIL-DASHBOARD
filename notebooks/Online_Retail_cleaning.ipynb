{
 "cells": [
  {
   "cell_type": "markdown",
   "id": "602c6378",
   "metadata": {},
   "source": [
    "# 🧹 Data Cleaning  – Retail Sales\n",
    "\n",
    "**Objective**: Clean raw sales data to fix common issues and prepare for analysis."
   ]
  },
  {
   "cell_type": "code",
   "execution_count": 3,
   "id": "949256cb",
   "metadata": {},
   "outputs": [],
   "source": [
    "import pandas as pd"
   ]
  },
  {
   "cell_type": "code",
   "execution_count": 4,
   "id": "deb6b3ba",
   "metadata": {},
   "outputs": [],
   "source": [
    "df=pd.read_csv(\"/Users/anuragchaubey/Online-Retail-Dashboard/data/Online_Retail_data.csv\")"
   ]
  },
  {
   "cell_type": "code",
   "execution_count": 5,
   "id": "c7556d33",
   "metadata": {},
   "outputs": [
    {
     "name": "stdout",
     "output_type": "stream",
     "text": [
      "<class 'pandas.core.frame.DataFrame'>\n",
      "RangeIndex: 541909 entries, 0 to 541908\n",
      "Data columns (total 8 columns):\n",
      " #   Column       Non-Null Count   Dtype  \n",
      "---  ------       --------------   -----  \n",
      " 0   InvoiceNo    541909 non-null  object \n",
      " 1   StockCode    541909 non-null  object \n",
      " 2   Description  540455 non-null  object \n",
      " 3   Quantity     525652 non-null  float64\n",
      " 4   InvoiceDate  541909 non-null  object \n",
      " 5   UnitPrice    520233 non-null  float64\n",
      " 6   CustomerID   406829 non-null  float64\n",
      " 7   Country      482300 non-null  object \n",
      "dtypes: float64(3), object(5)\n",
      "memory usage: 33.1+ MB\n"
     ]
    }
   ],
   "source": [
    "df.info()"
   ]
  },
  {
   "cell_type": "code",
   "execution_count": 6,
   "id": "0d13c465",
   "metadata": {},
   "outputs": [
    {
     "data": {
      "text/html": [
       "<div>\n",
       "<style scoped>\n",
       "    .dataframe tbody tr th:only-of-type {\n",
       "        vertical-align: middle;\n",
       "    }\n",
       "\n",
       "    .dataframe tbody tr th {\n",
       "        vertical-align: top;\n",
       "    }\n",
       "\n",
       "    .dataframe thead th {\n",
       "        text-align: right;\n",
       "    }\n",
       "</style>\n",
       "<table border=\"1\" class=\"dataframe\">\n",
       "  <thead>\n",
       "    <tr style=\"text-align: right;\">\n",
       "      <th></th>\n",
       "      <th>Quantity</th>\n",
       "      <th>UnitPrice</th>\n",
       "      <th>CustomerID</th>\n",
       "    </tr>\n",
       "  </thead>\n",
       "  <tbody>\n",
       "    <tr>\n",
       "      <th>count</th>\n",
       "      <td>525652.000000</td>\n",
       "      <td>520233.000000</td>\n",
       "      <td>406829.000000</td>\n",
       "    </tr>\n",
       "    <tr>\n",
       "      <th>mean</th>\n",
       "      <td>9.538179</td>\n",
       "      <td>4.640991</td>\n",
       "      <td>15287.690570</td>\n",
       "    </tr>\n",
       "    <tr>\n",
       "      <th>std</th>\n",
       "      <td>221.328312</td>\n",
       "      <td>98.636328</td>\n",
       "      <td>1713.600303</td>\n",
       "    </tr>\n",
       "    <tr>\n",
       "      <th>min</th>\n",
       "      <td>-80995.000000</td>\n",
       "      <td>-11062.060000</td>\n",
       "      <td>12346.000000</td>\n",
       "    </tr>\n",
       "    <tr>\n",
       "      <th>25%</th>\n",
       "      <td>1.000000</td>\n",
       "      <td>1.250000</td>\n",
       "      <td>13953.000000</td>\n",
       "    </tr>\n",
       "    <tr>\n",
       "      <th>50%</th>\n",
       "      <td>3.000000</td>\n",
       "      <td>2.080000</td>\n",
       "      <td>15152.000000</td>\n",
       "    </tr>\n",
       "    <tr>\n",
       "      <th>75%</th>\n",
       "      <td>10.000000</td>\n",
       "      <td>4.130000</td>\n",
       "      <td>16791.000000</td>\n",
       "    </tr>\n",
       "    <tr>\n",
       "      <th>max</th>\n",
       "      <td>80995.000000</td>\n",
       "      <td>38970.000000</td>\n",
       "      <td>18287.000000</td>\n",
       "    </tr>\n",
       "  </tbody>\n",
       "</table>\n",
       "</div>"
      ],
      "text/plain": [
       "            Quantity      UnitPrice     CustomerID\n",
       "count  525652.000000  520233.000000  406829.000000\n",
       "mean        9.538179       4.640991   15287.690570\n",
       "std       221.328312      98.636328    1713.600303\n",
       "min    -80995.000000  -11062.060000   12346.000000\n",
       "25%         1.000000       1.250000   13953.000000\n",
       "50%         3.000000       2.080000   15152.000000\n",
       "75%        10.000000       4.130000   16791.000000\n",
       "max     80995.000000   38970.000000   18287.000000"
      ]
     },
     "execution_count": 6,
     "metadata": {},
     "output_type": "execute_result"
    }
   ],
   "source": [
    "df.describe()"
   ]
  },
  {
   "cell_type": "code",
   "execution_count": 7,
   "id": "23fc91c8",
   "metadata": {},
   "outputs": [
    {
     "data": {
      "text/plain": [
       "InvoiceNo           0\n",
       "StockCode           0\n",
       "Description      1454\n",
       "Quantity        16257\n",
       "InvoiceDate         0\n",
       "UnitPrice       21676\n",
       "CustomerID     135080\n",
       "Country         59609\n",
       "dtype: int64"
      ]
     },
     "execution_count": 7,
     "metadata": {},
     "output_type": "execute_result"
    }
   ],
   "source": [
    "df.isnull().sum()"
   ]
  },
  {
   "cell_type": "markdown",
   "id": "352c914f",
   "metadata": {},
   "source": [
    "# Handling the missing values"
   ]
  },
  {
   "cell_type": "markdown",
   "id": "94c955b1",
   "metadata": {},
   "source": [
    "## Description"
   ]
  },
  {
   "cell_type": "code",
   "execution_count": 8,
   "id": "6b2070cf",
   "metadata": {},
   "outputs": [
    {
     "name": "stdout",
     "output_type": "stream",
     "text": [
      "0     WHITE HANGING HEART T-LIGHT HOLDER\n",
      "1                    WHITE METAL LANTERN\n",
      "2         CREAM CUPID HEARTS COAT HANGER\n",
      "3    KNITTED UNION FLAG HOT WATER BOTTLE\n",
      "4         RED WOOLLY HOTTIE WHITE HEART.\n",
      "Name: Description, dtype: object\n",
      "0\n"
     ]
    }
   ],
   "source": [
    "import re\n",
    "import numpy as np\n",
    "\n",
    "# Step 1: Handle missing values first\n",
    "df['Description'] = df['Description'].fillna('UNKNOWN_DESCRIPTION')\n",
    "\n",
    "# Step 2: Remove leading/trailing whitespace\n",
    "df['Description'] = df['Description'].str.strip()\n",
    "\n",
    "# Step 3: Convert to uppercase\n",
    "df['Description'] = df['Description'].str.upper()\n",
    "\n",
    "# Step 4: Remove internal extra spaces – handle only if string\n",
    "df['Description'] = df['Description'].apply(\n",
    "    lambda x: re.sub(r'\\s+', ' ', x) if isinstance(x, str) else x\n",
    ")\n",
    "\n",
    "# ✅ Check result\n",
    "print(df['Description'].head())\n",
    "print(df['Description'].isnull().sum())\n"
   ]
  },
  {
   "cell_type": "markdown",
   "id": "0f2bf266",
   "metadata": {},
   "source": [
    "## ✅ Final Step-by-Step Cleaning for `Quantity`\n",
    "\n",
    "🔧 **Goals**:\n",
    "* Ensure values are numeric\n",
    "* Coerce invalid entries to `NaN`\n",
    "* Remove zero or negative values *(unless handling returns separately)*\n",
    "* Drop rows with missing `Quantity`"
   ]
  },
  {
   "cell_type": "code",
   "execution_count": 9,
   "id": "450639b7",
   "metadata": {},
   "outputs": [
    {
     "name": "stdout",
     "output_type": "stream",
     "text": [
      "Remaining rows: 515333\n",
      "Missing values in Quantity: 0\n",
      "Any non-positive Quantity left?: 0\n"
     ]
    }
   ],
   "source": [
    "# Step 1: Convert Quantity to Numeric (invalid entries → NaN)\n",
    "df['Quantity'] = pd.to_numeric(df['Quantity'], errors='coerce')\n",
    "\n",
    "# Step 2: Drop rows where Quantity is missing (NaN)\n",
    "df = df.dropna(subset=['Quantity'])\n",
    "\n",
    "# Step 3: Filter out rows where Quantity is zero or negative\n",
    "# (Unless you're saving returns separately — which you're not doing here)\n",
    "df = df[df['Quantity'] > 0]\n",
    "\n",
    "# Step 4: Optional – Convert to Integer if it's whole numbers\n",
    "if (df['Quantity'] % 1 == 0).all():  # check if all values are whole\n",
    "    df['Quantity'] = df['Quantity'].astype(int)\n",
    "\n",
    "# ✅ Done — check summary\n",
    "print(\"Remaining rows:\", len(df))\n",
    "print(\"Missing values in Quantity:\", df['Quantity'].isnull().sum())\n",
    "print(\"Any non-positive Quantity left?:\", (df['Quantity'] <= 0).sum())\n"
   ]
  },
  {
   "cell_type": "markdown",
   "id": "34605e22",
   "metadata": {},
   "source": [
    "## ✅ Final Step-by-Step Cleaning for `UnitPrice`\n",
    "\n",
    "🔧 **Goals**:\n",
    "* Ensure values are numeric (handle non-numeric/garbage values)\n",
    "* Remove negative prices (0 might be valid)\n",
    "* Drop missing values (`NaN`)\n",
    "* Final data type: `float"
   ]
  },
  {
   "cell_type": "code",
   "execution_count": 10,
   "id": "8009ffb5",
   "metadata": {},
   "outputs": [
    {
     "name": "stdout",
     "output_type": "stream",
     "text": [
      "Remaining rows: 510013\n",
      "Missing UnitPrice values: 0\n",
      "Negative UnitPrice entries: 0\n"
     ]
    }
   ],
   "source": [
    "# Step 1: Convert UnitPrice to Numeric (invalid entries → NaN)\n",
    "df['UnitPrice'] = pd.to_numeric(df['UnitPrice'], errors='coerce')\n",
    "\n",
    "# Step 2: Drop rows where UnitPrice is missing\n",
    "df = df.dropna(subset=['UnitPrice'])\n",
    "\n",
    "# Step 3: Filter out rows where UnitPrice is negative\n",
    "df = df[df['UnitPrice'] >= 0]\n",
    "\n",
    "# Step 4: Ensure it's a float (typically by default, but explicitly if needed)\n",
    "df['UnitPrice'] = df['UnitPrice'].astype(float)\n",
    "\n",
    "# ✅ Summary Check\n",
    "print(\"Remaining rows:\", len(df))\n",
    "print(\"Missing UnitPrice values:\", df['UnitPrice'].isnull().sum())\n",
    "print(\"Negative UnitPrice entries:\", (df['UnitPrice'] < 0).sum())\n"
   ]
  },
  {
   "cell_type": "code",
   "execution_count": 11,
   "id": "093cd2d8",
   "metadata": {},
   "outputs": [],
   "source": [
    "median_price = df.loc[df['UnitPrice'] > 0, 'UnitPrice'].median()"
   ]
  },
  {
   "cell_type": "code",
   "execution_count": 12,
   "id": "325d60be",
   "metadata": {},
   "outputs": [],
   "source": [
    "# Replace 0s with the calculated median\n",
    "df['UnitPrice'] = df['UnitPrice'].replace(0, median_price)"
   ]
  },
  {
   "cell_type": "markdown",
   "id": "e8052010",
   "metadata": {},
   "source": [
    "## CustomerID\n",
    "\n",
    "* Filling with UNKNOWN_CUSTOMER"
   ]
  },
  {
   "cell_type": "code",
   "execution_count": 13,
   "id": "d1a8631d",
   "metadata": {},
   "outputs": [],
   "source": [
    "import numpy as np\n",
    "\n",
    "df['CustomerID'] = df['CustomerID'].replace(['NaN', 'nan', 'None'], np.nan)\n"
   ]
  },
  {
   "cell_type": "code",
   "execution_count": 14,
   "id": "2ab03009",
   "metadata": {},
   "outputs": [],
   "source": [
    "df['CustomerID'] = df['CustomerID'].astype('string').str.strip()\n"
   ]
  },
  {
   "cell_type": "code",
   "execution_count": 15,
   "id": "1b743361",
   "metadata": {},
   "outputs": [],
   "source": [
    "df['CustomerID'] = df['CustomerID'].fillna('UNKNOWN_CUSTOMER')\n"
   ]
  },
  {
   "cell_type": "markdown",
   "id": "f2c9d1ad",
   "metadata": {},
   "source": [
    "## Country\n",
    "\n",
    "* Filling with Mode"
   ]
  },
  {
   "cell_type": "code",
   "execution_count": 16,
   "id": "f45d3f6c",
   "metadata": {},
   "outputs": [
    {
     "data": {
      "text/plain": [
       "Country\n",
       "United Kingdom          415533\n",
       "Germany                   7731\n",
       "France                    7156\n",
       "EIRE                      6769\n",
       "Spain                     2119\n",
       "Netherlands               2009\n",
       "Belgium                   1726\n",
       "Switzerland               1674\n",
       "Portugal                  1296\n",
       "Australia                 1037\n",
       "Norway                     946\n",
       "Italy                      636\n",
       "Channel Islands            631\n",
       "Finland                    579\n",
       "Cyprus                     533\n",
       "Sweden                     387\n",
       "Unspecified                375\n",
       "Austria                    340\n",
       "Denmark                    316\n",
       "Japan                      275\n",
       "Poland                     275\n",
       "Israel                     253\n",
       "Hong Kong                  242\n",
       "Singapore                  197\n",
       "Iceland                    161\n",
       "USA                        157\n",
       "Canada                     129\n",
       "Greece                     124\n",
       "Malta                       93\n",
       "United Arab Emirates        56\n",
       "European Community          51\n",
       "RSA                         48\n",
       "Lebanon                     40\n",
       "Brazil                      27\n",
       "Lithuania                   25\n",
       "Czech Republic              21\n",
       "Bahrain                     18\n",
       "Saudi Arabia                 7\n",
       "Name: count, dtype: int64"
      ]
     },
     "execution_count": 16,
     "metadata": {},
     "output_type": "execute_result"
    }
   ],
   "source": [
    "df['Country'].value_counts()"
   ]
  },
  {
   "cell_type": "code",
   "execution_count": 17,
   "id": "19ca6fd0",
   "metadata": {},
   "outputs": [
    {
     "data": {
      "text/plain": [
       "InvoiceNo          0\n",
       "StockCode          0\n",
       "Description        0\n",
       "Quantity           0\n",
       "InvoiceDate        0\n",
       "UnitPrice          0\n",
       "CustomerID         0\n",
       "Country        56021\n",
       "dtype: int64"
      ]
     },
     "execution_count": 17,
     "metadata": {},
     "output_type": "execute_result"
    }
   ],
   "source": [
    "df.isnull().sum()"
   ]
  },
  {
   "cell_type": "code",
   "execution_count": 18,
   "id": "6e095de2",
   "metadata": {},
   "outputs": [],
   "source": [
    "# 1. Treat string 'NaN', 'nan', 'None', etc. as null\n",
    "df['Country'] = df['Country'].replace(['NaN', 'nan', 'None', 'NONE'], np.nan)\n",
    "\n",
    "# 2. Strip whitespace and convert to uppercase\n",
    "df['Country'] = df['Country'].astype(str).str.strip().str.upper()\n",
    "df['Country'] = df['Country'].replace('NAN', np.nan)  # Because str.upper() turned NaN to 'NAN'\n",
    "\n",
    "# 3. Get top 3 most frequent countries (excluding NaN)\n",
    "top_countries = df['Country'].value_counts().head(3).index.tolist()\n",
    "\n",
    "# 4. Number of missing values\n",
    "num_missing = df['Country'].isna().sum()\n",
    "\n",
    "# 5. Compute how many to fill for each\n",
    "fill_counts = {\n",
    "    top_countries[0]: int(num_missing * 0.6),\n",
    "    top_countries[1]: int(num_missing * 0.2),\n",
    "    top_countries[2]: num_missing - int(num_missing * 0.6) - int(num_missing * 0.2)  # Remaining\n",
    "}\n",
    "\n",
    "# 6. Randomly assign top 3 countries into NaNs\n",
    "missing_indices = df[df['Country'].isna()].index.to_list()\n",
    "np.random.shuffle(missing_indices)  # Shuffle to avoid bias\n",
    "\n",
    "fill_idx = 0\n",
    "for country, count in fill_counts.items():\n",
    "    selected_indices = missing_indices[fill_idx: fill_idx + count]\n",
    "    df.loc[selected_indices, 'Country'] = country\n",
    "    fill_idx += count\n"
   ]
  },
  {
   "cell_type": "code",
   "execution_count": 19,
   "id": "c878c965",
   "metadata": {},
   "outputs": [
    {
     "data": {
      "text/plain": [
       "Country\n",
       "UNITED KINGDOM          449145\n",
       "GERMANY                  18935\n",
       "FRANCE                   18361\n",
       "EIRE                      6769\n",
       "SPAIN                     2119\n",
       "NETHERLANDS               2009\n",
       "BELGIUM                   1726\n",
       "SWITZERLAND               1674\n",
       "PORTUGAL                  1296\n",
       "AUSTRALIA                 1037\n",
       "NORWAY                     946\n",
       "ITALY                      636\n",
       "CHANNEL ISLANDS            631\n",
       "FINLAND                    579\n",
       "CYPRUS                     533\n",
       "SWEDEN                     387\n",
       "UNSPECIFIED                375\n",
       "AUSTRIA                    340\n",
       "DENMARK                    316\n",
       "JAPAN                      275\n",
       "POLAND                     275\n",
       "ISRAEL                     253\n",
       "HONG KONG                  242\n",
       "SINGAPORE                  197\n",
       "ICELAND                    161\n",
       "USA                        157\n",
       "CANADA                     129\n",
       "GREECE                     124\n",
       "MALTA                       93\n",
       "UNITED ARAB EMIRATES        56\n",
       "EUROPEAN COMMUNITY          51\n",
       "RSA                         48\n",
       "LEBANON                     40\n",
       "BRAZIL                      27\n",
       "LITHUANIA                   25\n",
       "CZECH REPUBLIC              21\n",
       "BAHRAIN                     18\n",
       "SAUDI ARABIA                 7\n",
       "Name: count, dtype: int64"
      ]
     },
     "execution_count": 19,
     "metadata": {},
     "output_type": "execute_result"
    }
   ],
   "source": [
    "df['Country'].value_counts()"
   ]
  },
  {
   "cell_type": "code",
   "execution_count": 20,
   "id": "b9b95932",
   "metadata": {},
   "outputs": [
    {
     "data": {
      "text/plain": [
       "np.int64(4427)"
      ]
     },
     "execution_count": 20,
     "metadata": {},
     "output_type": "execute_result"
    }
   ],
   "source": [
    "df.duplicated().sum()"
   ]
  },
  {
   "cell_type": "markdown",
   "id": "a8432279",
   "metadata": {},
   "source": [
    "### Remove Duplicate Rows"
   ]
  },
  {
   "cell_type": "code",
   "execution_count": 21,
   "id": "4f1ece2e",
   "metadata": {},
   "outputs": [
    {
     "name": "stdout",
     "output_type": "stream",
     "text": [
      "✅ Removed 4427 duplicate rows.\n"
     ]
    }
   ],
   "source": [
    "# Get duplicate rows count\n",
    "duplicate_count = df.duplicated().sum()\n",
    "\n",
    "# Remove duplicates\n",
    "df = df.drop_duplicates()\n",
    "\n",
    "print(f\"✅ Removed {duplicate_count} duplicate rows.\")\n"
   ]
  },
  {
   "cell_type": "markdown",
   "id": "7079d167",
   "metadata": {},
   "source": [
    " ### 2. Verify and Fix Data Types"
   ]
  },
  {
   "cell_type": "code",
   "execution_count": 22,
   "id": "7f7d3be1",
   "metadata": {},
   "outputs": [
    {
     "name": "stdout",
     "output_type": "stream",
     "text": [
      "\n",
      "✅ Data types verified:\n",
      "InvoiceNo              object\n",
      "StockCode              object\n",
      "Description            object\n",
      "Quantity                int64\n",
      "InvoiceDate    datetime64[ns]\n",
      "UnitPrice             float64\n",
      "CustomerID             object\n",
      "Country                object\n",
      "dtype: object\n"
     ]
    }
   ],
   "source": [
    "# Convert to correct dtypes\n",
    "df['Quantity'] = df['Quantity'].astype(int)\n",
    "df['UnitPrice'] = df['UnitPrice'].astype(float)\n",
    "df['InvoiceDate'] = pd.to_datetime(df['InvoiceDate'])\n",
    "\n",
    "# Convert object identifiers to string\n",
    "df['InvoiceNo'] = df['InvoiceNo'].astype(str)\n",
    "df['StockCode'] = df['StockCode'].astype(str)\n",
    "df['Description'] = df['Description'].astype(str)\n",
    "df['CustomerID'] = df['CustomerID'].astype(str)\n",
    "df['Country'] = df['Country'].astype(str)\n",
    "\n",
    "# Final dtype check\n",
    "print(\"\\n✅ Data types verified:\")\n",
    "print(df.dtypes)\n"
   ]
  },
  {
   "cell_type": "code",
   "execution_count": 23,
   "id": "f34cd823",
   "metadata": {},
   "outputs": [
    {
     "name": "stdout",
     "output_type": "stream",
     "text": [
      "\n",
      "📋 Summary of Changes:\n",
      "Final shape: 505586 rows × 8 columns\n",
      "Remaining duplicate rows: 0\n",
      "Total missing values:\n",
      "InvoiceNo      0\n",
      "StockCode      0\n",
      "Description    0\n",
      "Quantity       0\n",
      "InvoiceDate    0\n",
      "UnitPrice      0\n",
      "CustomerID     0\n",
      "Country        0\n",
      "dtype: int64\n"
     ]
    }
   ],
   "source": [
    "# You should track before-after counts during each step\n",
    "print(\"\\n📋 Summary of Changes:\")\n",
    "print(f\"Final shape: {df.shape[0]} rows × {df.shape[1]} columns\")\n",
    "print(f\"Remaining duplicate rows: {df.duplicated().sum()}\")\n",
    "print(f\"Total missing values:\\n{df.isna().sum()}\")\n"
   ]
  },
  {
   "cell_type": "code",
   "execution_count": 24,
   "id": "cf237ffb",
   "metadata": {},
   "outputs": [
    {
     "name": "stdout",
     "output_type": "stream",
     "text": [
      "\n",
      "🔍 Final Missing Values in Critical Columns:\n",
      "InvoiceNo      0\n",
      "StockCode      0\n",
      "Quantity       0\n",
      "UnitPrice      0\n",
      "InvoiceDate    0\n",
      "CustomerID     0\n",
      "Country        0\n",
      "dtype: int64\n"
     ]
    }
   ],
   "source": [
    "# Check for missing in important columns\n",
    "critical_cols = ['InvoiceNo', 'StockCode', 'Quantity', 'UnitPrice', 'InvoiceDate', 'CustomerID', 'Country']\n",
    "missing_critical = df[critical_cols].isna().sum()\n",
    "\n",
    "print(\"\\n🔍 Final Missing Values in Critical Columns:\")\n",
    "print(missing_critical)\n"
   ]
  },
  {
   "cell_type": "markdown",
   "id": "5e13cf15",
   "metadata": {},
   "source": [
    "# Checking for Invalid Values"
   ]
  },
  {
   "cell_type": "code",
   "execution_count": 25,
   "id": "f2add473",
   "metadata": {},
   "outputs": [
    {
     "name": "stdout",
     "output_type": "stream",
     "text": [
      "🔎 Invalid InvoiceNo:\n",
      "Empty DataFrame\n",
      "Columns: [InvoiceNo, StockCode, Description, Quantity, InvoiceDate, UnitPrice, CustomerID, Country]\n",
      "Index: []\n"
     ]
    }
   ],
   "source": [
    "print(\"🔎 Invalid InvoiceNo:\")\n",
    "print(df[df['InvoiceNo'].isna() | (df['InvoiceNo'].str.strip() == '')])\n"
   ]
  },
  {
   "cell_type": "code",
   "execution_count": 26,
   "id": "c3b76f1c",
   "metadata": {},
   "outputs": [
    {
     "name": "stdout",
     "output_type": "stream",
     "text": [
      "🔎 Invalid StockCode:\n",
      "Empty DataFrame\n",
      "Columns: [InvoiceNo, StockCode, Description, Quantity, InvoiceDate, UnitPrice, CustomerID, Country]\n",
      "Index: []\n"
     ]
    }
   ],
   "source": [
    "print(\"🔎 Invalid StockCode:\")\n",
    "print(df[df['StockCode'].isna() | (df['StockCode'].str.strip() == '')])\n"
   ]
  },
  {
   "cell_type": "code",
   "execution_count": 27,
   "id": "2c19f257",
   "metadata": {},
   "outputs": [
    {
     "name": "stdout",
     "output_type": "stream",
     "text": [
      "🔎 Invalid Descriptions:\n",
      "Empty DataFrame\n",
      "Columns: [InvoiceNo, StockCode, Description, Quantity, InvoiceDate, UnitPrice, CustomerID, Country]\n",
      "Index: []\n"
     ]
    }
   ],
   "source": [
    "print(\"🔎 Invalid Descriptions:\")\n",
    "print(df[df['Description'].str.lower().isin(['', 'nan', 'none', 'null'])])\n"
   ]
  },
  {
   "cell_type": "code",
   "execution_count": 28,
   "id": "18d451a9",
   "metadata": {},
   "outputs": [
    {
     "name": "stdout",
     "output_type": "stream",
     "text": [
      "🔎 Invalid Quantity (Negative or Zero):\n",
      "Empty DataFrame\n",
      "Columns: [InvoiceNo, StockCode, Description, Quantity, InvoiceDate, UnitPrice, CustomerID, Country]\n",
      "Index: []\n"
     ]
    }
   ],
   "source": [
    "print(\"🔎 Invalid Quantity (Negative or Zero):\")\n",
    "print(df[df['Quantity'] <= 0])\n"
   ]
  },
  {
   "cell_type": "code",
   "execution_count": 29,
   "id": "0508c9f1",
   "metadata": {},
   "outputs": [
    {
     "name": "stdout",
     "output_type": "stream",
     "text": [
      "🔎 Invalid UnitPrice (Zero or Negative):\n",
      "Empty DataFrame\n",
      "Columns: [InvoiceNo, StockCode, Description, Quantity, InvoiceDate, UnitPrice, CustomerID, Country]\n",
      "Index: []\n"
     ]
    }
   ],
   "source": [
    "print(\"🔎 Invalid UnitPrice (Zero or Negative):\")\n",
    "print(df[df['UnitPrice'] <= 0])\n"
   ]
  },
  {
   "cell_type": "code",
   "execution_count": 30,
   "id": "19d46d5c",
   "metadata": {},
   "outputs": [
    {
     "name": "stdout",
     "output_type": "stream",
     "text": [
      "🔎 Invalid InvoiceDate (Future dates):\n",
      "Empty DataFrame\n",
      "Columns: [InvoiceNo, StockCode, Description, Quantity, InvoiceDate, UnitPrice, CustomerID, Country]\n",
      "Index: []\n"
     ]
    }
   ],
   "source": [
    "from datetime import datetime\n",
    "\n",
    "print(\"🔎 Invalid InvoiceDate (Future dates):\")\n",
    "print(df[df['InvoiceDate'] > datetime.now()])\n"
   ]
  },
  {
   "cell_type": "code",
   "execution_count": 31,
   "id": "60729c4a",
   "metadata": {},
   "outputs": [
    {
     "name": "stdout",
     "output_type": "stream",
     "text": [
      "🔎 Invalid CustomerID:\n",
      "Empty DataFrame\n",
      "Columns: [InvoiceNo, StockCode, Description, Quantity, InvoiceDate, UnitPrice, CustomerID, Country]\n",
      "Index: []\n"
     ]
    }
   ],
   "source": [
    "print(\"🔎 Invalid CustomerID:\")\n",
    "invalid_cust = df['CustomerID'].str.lower().isin(['nan', 'none', 'null'])\n",
    "print(df[df['CustomerID'].isna() | invalid_cust])\n"
   ]
  },
  {
   "cell_type": "code",
   "execution_count": 32,
   "id": "679cf8fc",
   "metadata": {},
   "outputs": [
    {
     "name": "stdout",
     "output_type": "stream",
     "text": [
      "🔎 Invalid Country:\n",
      "Empty DataFrame\n",
      "Columns: [InvoiceNo, StockCode, Description, Quantity, InvoiceDate, UnitPrice, CustomerID, Country]\n",
      "Index: []\n"
     ]
    }
   ],
   "source": [
    "print(\"🔎 Invalid Country:\")\n",
    "invalid_country = df['Country'].str.lower().isin(['', 'unknown', '?', 'nan'])\n",
    "print(df[df['Country'].isna() | invalid_country])\n"
   ]
  },
  {
   "cell_type": "code",
   "execution_count": 33,
   "id": "032a79f3",
   "metadata": {},
   "outputs": [],
   "source": [
    "df.to_csv(\"/Users/anuragchaubey/Online-Retail-Dashboard/data/Online_Retail_Cleaned.csv\",index=False)"
   ]
  }
 ],
 "metadata": {
  "kernelspec": {
   "display_name": ".venv",
   "language": "python",
   "name": "python3"
  },
  "language_info": {
   "codemirror_mode": {
    "name": "ipython",
    "version": 3
   },
   "file_extension": ".py",
   "mimetype": "text/x-python",
   "name": "python",
   "nbconvert_exporter": "python",
   "pygments_lexer": "ipython3",
   "version": "3.12.5"
  }
 },
 "nbformat": 4,
 "nbformat_minor": 5
}
